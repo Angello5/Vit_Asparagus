{
 "cells": [
  {
   "cell_type": "code",
   "execution_count": 3,
   "id": "409a7043",
   "metadata": {},
   "outputs": [],
   "source": [
    "import numpy as np\n",
    "import torch\n",
    "from torch import nn\n",
    "from torch.utils.data import DataLoader\n",
    "from torchvision import transforms, datasets\n",
    "\n",
    "from transformers import ViTForImageClassification, ViTFeatureExtractor\n",
    "from datasets import load_dataset\n",
    "\n",
    "from sklearn.metrics import accuracy_score, classification_report\n",
    "from tqdm.auto import tqdm"
   ]
  },
  {
   "cell_type": "code",
   "execution_count": 5,
   "id": "99d92da5",
   "metadata": {},
   "outputs": [
    {
     "name": "stderr",
     "output_type": "stream",
     "text": [
      "Generating train split: 100%|██████████| 50000/50000 [00:00<00:00, 169041.73 examples/s]\n",
      "Generating test split: 100%|██████████| 10000/10000 [00:00<00:00, 184154.55 examples/s]\n"
     ]
    }
   ],
   "source": [
    "hf_ds = load_dataset(\"cifar100\")"
   ]
  },
  {
   "cell_type": "code",
   "execution_count": null,
   "id": "37f8f29b",
   "metadata": {},
   "outputs": [],
   "source": [
    "transforms = transforms.Compose([\n",
    "    transforms.Resize((224, 224)),\n",
    "    transforms.ToTensor(),\n",
    "    transforms.Normalize(mean=feature_extractor.imagen_mean, std=feature_extractor.imagen_std),\n",
    "])\n",
    "\n",
    "def preprocess(examples):\n",
    "    examples[\"pixel_values\"] = [transform(img) for img in examples[\"img\"]]\n",
    "    examples[\"labels\"]      = examples[\"fine_label\"]\n",
    "    return examples"
   ]
  }
 ],
 "metadata": {
  "kernelspec": {
   "display_name": "esparragos",
   "language": "python",
   "name": "python3"
  },
  "language_info": {
   "codemirror_mode": {
    "name": "ipython",
    "version": 3
   },
   "file_extension": ".py",
   "mimetype": "text/x-python",
   "name": "python",
   "nbconvert_exporter": "python",
   "pygments_lexer": "ipython3",
   "version": "3.10.16"
  }
 },
 "nbformat": 4,
 "nbformat_minor": 5
}
